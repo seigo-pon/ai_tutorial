{
 "cells": [
  {
   "cell_type": "code",
   "execution_count": 14,
   "metadata": {},
   "outputs": [],
   "source": [
    "import numpy as np\n",
    "from sklearn.naive_bayes import GaussianNB\n",
    "from sklearn.metrics import accuracy_score\n",
    "import glob\n",
    "\n",
    "char_code_max = 65535\n",
    "\n",
    "def count_char_code(string):\n",
    "    count = np.zeros(char_code_max)\n",
    "\n",
    "    # 文字コードの頻出度を記録\n",
    "    str_len = len(string)\n",
    "    for i in range(str_len):\n",
    "        char_code = ord(string[i])\n",
    "        if char_code > char_code_max:\n",
    "            continue\n",
    "        count[char_code] += 1\n",
    "\n",
    "    # 今回の頻度を正規化\n",
    "    count = count / str_len\n",
    "    return count"
   ]
  },
  {
   "cell_type": "code",
   "execution_count": 15,
   "metadata": {},
   "outputs": [
    {
     "output_type": "stream",
     "name": "stdout",
     "text": "./lang_data/train/es_cat.txt\n./lang_data/train/en_elephant.txt\n./lang_data/train/en_cat.txt\n./lang_data/train/de_cat.txt\n./lang_data/train/es_dog.txt\n./lang_data/train/de_elephant.txt\n./lang_data/train/en_dog.txt\n./lang_data/train/es_elephant.txt\n./lang_data/train/de_dog.txt\n"
    }
   ],
   "source": [
    "# 学習用データ\n",
    "x_train = []\n",
    "y_train = []\n",
    "for f in glob.glob('./lang_data/train/*.txt'):\n",
    "    print(f)\n",
    "    y_train.append(f.split('/')[-1][0:2])\n",
    "\n",
    "    all = ''\n",
    "    for line in open(f, 'r'):\n",
    "        all += line\n",
    "    x_train.append(count_char_code(all))"
   ]
  },
  {
   "cell_type": "code",
   "execution_count": 16,
   "metadata": {},
   "outputs": [
    {
     "output_type": "execute_result",
     "data": {
      "text/plain": "GaussianNB(priors=None, var_smoothing=1e-09)"
     },
     "metadata": {},
     "execution_count": 16
    }
   ],
   "source": [
    "# 学習\n",
    "clf = GaussianNB()\n",
    "clf.fit(x_train, y_train)"
   ]
  },
  {
   "cell_type": "code",
   "execution_count": 17,
   "metadata": {},
   "outputs": [
    {
     "output_type": "stream",
     "name": "stdout",
     "text": "./lang_data/test/en_lion.txt\n./lang_data/test/de_lion.txt\n./lang_data/test/es_lion.txt\n"
    }
   ],
   "source": [
    "# テスト用データ\n",
    "x_test = []\n",
    "y_test = []\n",
    "for f in glob.glob('./lang_data/test/*.txt'):\n",
    "    print(f)\n",
    "    y_test.append(f.split('/')[-1][0:2])\n",
    "\n",
    "    all = ''\n",
    "    for line in open(f, 'r'):\n",
    "        all += line\n",
    "    x_test.append(count_char_code(all))"
   ]
  },
  {
   "cell_type": "code",
   "execution_count": 18,
   "metadata": {},
   "outputs": [
    {
     "output_type": "stream",
     "name": "stdout",
     "text": "['en' 'de' 'es']\n1.0\n"
    }
   ],
   "source": [
    "# 評価\n",
    "y_pred = clf.predict(x_test)\n",
    "print(y_pred)\n",
    "print(accuracy_score(y_test, y_pred))"
   ]
  },
  {
   "cell_type": "code",
   "execution_count": null,
   "metadata": {},
   "outputs": [],
   "source": []
  }
 ],
 "metadata": {
  "language_info": {
   "codemirror_mode": {
    "name": "ipython",
    "version": 3
   },
   "file_extension": ".py",
   "mimetype": "text/x-python",
   "name": "python",
   "nbconvert_exporter": "python",
   "pygments_lexer": "ipython3",
   "version": "3.7.5-final"
  },
  "orig_nbformat": 2,
  "kernelspec": {
   "name": "python37564bitaitutorialvenvbfa9976514ab457184b1b6f4ee41b3e6",
   "display_name": "Python 3.7.5 64-bit ('ai_tutorial': venv)"
  }
 },
 "nbformat": 4,
 "nbformat_minor": 2
}