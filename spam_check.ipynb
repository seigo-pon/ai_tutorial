{
 "cells": [
  {
   "cell_type": "code",
   "execution_count": 4,
   "metadata": {
    "tags": []
   },
   "outputs": [
    {
     "output_type": "stream",
     "name": "stdout",
     "text": "ok\nspam\n"
    }
   ],
   "source": [
    "import pickle\n",
    "import MeCab\n",
    "import numpy as np\n",
    "from sklearn.naive_bayes import GaussianNB\n",
    "\n",
    "test_text1 = \"\"\"\n",
    "会社から支給されているiPhoneの調子が悪いです。\n",
    "修理に出すので、しばらくテストはできません。\n",
    "\"\"\"\n",
    "\n",
    "test_text2 = \"\"\"\n",
    "億万長者になる方法を教えます。\n",
    "すぐに以下のアドレスに返信して。\n",
    "\"\"\"\n",
    "\n",
    "data_file = './ok-spam.pickle'\n",
    "model_file = './ok-spam-model.pickle'\n",
    "label_name = ['ok', 'spam']\n",
    "\n",
    "data = pickle.load(open(data_file, 'rb'))\n",
    "word_dic = data[2]\n",
    "\n",
    "tagger = MeCab.Tagger('-d /var/lib/mecab/dic/mecab-ipadic-neologd')\n",
    "model = pickle.load(open(model_file, 'rb'))\n",
    "\n",
    "def check_spam(text):\n",
    "    zw = np.zeros(word_dic['__id'])\n",
    "    count = 0\n",
    "    s = tagger.parse(text)\n",
    "    for line in s.split('\\n'):\n",
    "        if line == 'EOS':\n",
    "            break\n",
    "        params = line.split('\\t')[1].split(',')\n",
    "        org = params[6]\n",
    "        if org in word_dic:\n",
    "            id = word_dic[org]\n",
    "            zw[id] += 1\n",
    "            count += 1\n",
    "    zw = zw / count\n",
    "    pre = model.predict([zw])[0]\n",
    "    print(label_name[pre])\n",
    "\n",
    "check_spam(test_text1)\n",
    "check_spam(test_text2)"
   ]
  },
  {
   "cell_type": "code",
   "execution_count": null,
   "metadata": {},
   "outputs": [],
   "source": []
  }
 ],
 "metadata": {
  "language_info": {
   "codemirror_mode": {
    "name": "ipython",
    "version": 3
   },
   "file_extension": ".py",
   "mimetype": "text/x-python",
   "name": "python",
   "nbconvert_exporter": "python",
   "pygments_lexer": "ipython3",
   "version": "3.7.5-final"
  },
  "orig_nbformat": 2,
  "kernelspec": {
   "name": "python37564bitaitutorialvenvbfa9976514ab457184b1b6f4ee41b3e6",
   "display_name": "Python 3.7.5 64-bit ('ai_tutorial': venv)"
  }
 },
 "nbformat": 4,
 "nbformat_minor": 2
}