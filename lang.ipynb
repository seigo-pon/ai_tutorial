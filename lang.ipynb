{
 "cells": [
  {
   "cell_type": "code",
   "execution_count": 1,
   "metadata": {},
   "outputs": [],
   "source": [
    "import numpy as np\n",
    "from sklearn.naive_bayes import GaussianNB\n",
    "from sklearn.metrics import accuracy_score\n",
    "\n",
    "char_code_max = 65535\n",
    "\n",
    "def count_char_code(string):\n",
    "    count = np.zeros(char_code_max)\n",
    "\n",
    "    # 文字コードの頻出度を記録\n",
    "    str_len = len(string)\n",
    "    for i in range(str_len):\n",
    "        char_code = ord(string[i])\n",
    "        if char_code > char_code_max:\n",
    "            continue\n",
    "        count[char_code] += 1\n",
    "\n",
    "    # 今回の頻度を正規化\n",
    "    count = count / str_len\n",
    "    return count"
   ]
  },
  {
   "cell_type": "code",
   "execution_count": 2,
   "metadata": {},
   "outputs": [],
   "source": [
    "# 学習用データ\n",
    "ja = 'これは日本語の文章です。'\n",
    "en = 'This is English sentences.'\n",
    "th = 'นี่คือประโยคภาษาอังกฤษ'\n",
    "\n",
    "x_train = [count_char_code(ja), count_char_code(en), count_char_code(th)]\n",
    "y_train = ['ja', 'en', 'th']"
   ]
  },
  {
   "cell_type": "code",
   "execution_count": 3,
   "metadata": {},
   "outputs": [
    {
     "output_type": "execute_result",
     "data": {
      "text/plain": "GaussianNB(priors=None, var_smoothing=1e-09)"
     },
     "metadata": {},
     "execution_count": 3
    }
   ],
   "source": [
    "# 学習\n",
    "clf = GaussianNB()\n",
    "clf.fit(x_train, y_train)"
   ]
  },
  {
   "cell_type": "code",
   "execution_count": 4,
   "metadata": {},
   "outputs": [],
   "source": [
    "# テスト用データ\n",
    "ja_test = 'こんにちは'\n",
    "en_test = 'Hello'\n",
    "th_test = 'สวัสดี'\n",
    "\n",
    "x_test = [count_char_code(en_test), count_char_code(th_test), count_char_code(ja_test)]\n",
    "y_test = ['en', 'th', 'ja']"
   ]
  },
  {
   "cell_type": "code",
   "execution_count": 5,
   "metadata": {},
   "outputs": [
    {
     "output_type": "stream",
     "name": "stdout",
     "text": "['en' 'th' 'ja']\n1.0\n"
    }
   ],
   "source": [
    "# 評価\n",
    "y_pred = clf.predict(x_test)\n",
    "print(y_pred)\n",
    "print(accuracy_score(y_test, y_pred))"
   ]
  },
  {
   "cell_type": "code",
   "execution_count": null,
   "metadata": {},
   "outputs": [],
   "source": []
  }
 ],
 "metadata": {
  "language_info": {
   "codemirror_mode": {
    "name": "ipython",
    "version": 3
   },
   "file_extension": ".py",
   "mimetype": "text/x-python",
   "name": "python",
   "nbconvert_exporter": "python",
   "pygments_lexer": "ipython3",
   "version": "3.7.5-final"
  },
  "orig_nbformat": 2,
  "kernelspec": {
   "name": "python37564bitaitutorialvenvbfa9976514ab457184b1b6f4ee41b3e6",
   "display_name": "Python 3.7.5 64-bit ('ai_tutorial': venv)"
  }
 },
 "nbformat": 4,
 "nbformat_minor": 2
}