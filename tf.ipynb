{
 "cells": [
  {
   "cell_type": "code",
   "execution_count": 2,
   "metadata": {
    "tags": []
   },
   "outputs": [
    {
     "output_type": "stream",
     "name": "stdout",
     "text": "b'Hello'\n"
    }
   ],
   "source": [
    "import tensorflow as tf\n",
    "\n",
    "sess = tf.Session()\n",
    "hello = tf.constant('Hello')\n",
    "print(sess.run(hello))"
   ]
  },
  {
   "cell_type": "code",
   "execution_count": 3,
   "metadata": {
    "tags": []
   },
   "outputs": [
    {
     "output_type": "stream",
     "name": "stdout",
     "text": "130\n"
    }
   ],
   "source": [
    "a = tf.constant(100)\n",
    "b = tf.constant(30)\n",
    "\n",
    "add_op = a + b\n",
    "\n",
    "sess = tf.Session()\n",
    "print(sess.run(add_op))"
   ]
  },
  {
   "cell_type": "code",
   "execution_count": 4,
   "metadata": {
    "tags": []
   },
   "outputs": [
    {
     "output_type": "stream",
     "name": "stdout",
     "text": "900\n"
    }
   ],
   "source": [
    "a = tf.constant(10)\n",
    "b = tf.constant(20)\n",
    "c = tf.constant(30)\n",
    "\n",
    "mul_op = (a + b) * c\n",
    "\n",
    "sess = tf.Session()\n",
    "print(sess.run(mul_op))"
   ]
  },
  {
   "cell_type": "code",
   "execution_count": 7,
   "metadata": {
    "tags": []
   },
   "outputs": [
    {
     "output_type": "stream",
     "name": "stdout",
     "text": "900\n"
    },
    {
     "output_type": "execute_result",
     "data": {
      "text/plain": "<tensorflow.python.summary.writer.writer.FileWriter at 0x136343610>"
     },
     "metadata": {},
     "execution_count": 7
    }
   ],
   "source": [
    "a = tf.constant(10, name='10')\n",
    "b = tf.constant(20, name='20')\n",
    "c = tf.constant(30, name='30')\n",
    "\n",
    "add_op = tf.add(a, b, name='add')\n",
    "mul_op = tf.multiply(add_op, c, name='mul')\n",
    "\n",
    "sess1 = tf.Session()\n",
    "print(sess1.run(mul_op))\n",
    "\n",
    "tf.summary.FileWriter('./logs', sess1.graph)"
   ]
  },
  {
   "cell_type": "code",
   "execution_count": 8,
   "metadata": {
    "tags": []
   },
   "outputs": [
    {
     "output_type": "stream",
     "name": "stdout",
     "text": "200\n"
    }
   ],
   "source": [
    "v = tf.Variable(0, name='v')\n",
    "\n",
    "a = tf.constant(10, name='10')\n",
    "b = tf.constant(20, name='20')\n",
    "\n",
    "mul_op = tf.multiply(a, b, name='mul')\n",
    "assign_op = tf.assign(v, mul_op)\n",
    "\n",
    "sess2 = tf.Session()\n",
    "sess2.run(assign_op)\n",
    "\n",
    "tf.summary.FileWriter('./logs', sess2.graph)\n",
    "\n",
    "print(sess2.run(v))"
   ]
  },
  {
   "cell_type": "code",
   "execution_count": 9,
   "metadata": {
    "tags": []
   },
   "outputs": [
    {
     "output_type": "stream",
     "name": "stdout",
     "text": "[ 2  4  6  8 10]\n[ 10  12  14  20 200]\n"
    }
   ],
   "source": [
    "a = tf.placeholder(tf.int32, [5])\n",
    "\n",
    "two = tf.constant(2)\n",
    "x2_op = a * two\n",
    "\n",
    "sess3 = tf.Session()\n",
    "\n",
    "res1 = sess3.run(x2_op, feed_dict={a: [1, 2, 3, 4, 5]})\n",
    "print(res1)\n",
    "res2 = sess3.run(x2_op, feed_dict={a: [5, 6, 7, 10, 100]})\n",
    "print(res2)"
   ]
  },
  {
   "cell_type": "code",
   "execution_count": 10,
   "metadata": {
    "tags": []
   },
   "outputs": [
    {
     "output_type": "stream",
     "name": "stdout",
     "text": "[[2 2]\n [4 4]\n [6 6]\n [8 8]]\n"
    }
   ],
   "source": [
    "a = tf.placeholder(tf.int32, [None, 2])\n",
    "\n",
    "two = tf.constant(2)\n",
    "x2_op = a * two\n",
    "\n",
    "sess4 = tf.Session()\n",
    "\n",
    "sample_list = [[1, 1], [2, 2], [3, 3], [4, 4]]\n",
    "res = sess4.run(x2_op, feed_dict={a: sample_list})\n",
    "print(res)"
   ]
  },
  {
   "cell_type": "code",
   "execution_count": null,
   "metadata": {},
   "outputs": [],
   "source": []
  }
 ],
 "metadata": {
  "language_info": {
   "codemirror_mode": {
    "name": "ipython",
    "version": 3
   },
   "file_extension": ".py",
   "mimetype": "text/x-python",
   "name": "python",
   "nbconvert_exporter": "python",
   "pygments_lexer": "ipython3",
   "version": 3
  },
  "orig_nbformat": 2,
  "kernelspec": {
   "name": "python_defaultSpec_1595947097772",
   "display_name": "Python 3.7.5 64-bit ('ai_tutorial': venv)"
  }
 },
 "nbformat": 4,
 "nbformat_minor": 2
}