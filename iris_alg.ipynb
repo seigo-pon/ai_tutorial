{
 "cells": [
  {
   "cell_type": "code",
   "execution_count": 1,
   "metadata": {},
   "outputs": [
    {
     "output_type": "stream",
     "name": "stdout",
     "text": "SepalLength  SepalWidth  PetalLength  PetalWidth            Name\n0            5.1         3.5          1.4         0.2     Iris-setosa\n1            4.9         3.0          1.4         0.2     Iris-setosa\n2            4.7         3.2          1.3         0.2     Iris-setosa\n3            4.6         3.1          1.5         0.2     Iris-setosa\n4            5.0         3.6          1.4         0.2     Iris-setosa\n..           ...         ...          ...         ...             ...\n145          6.7         3.0          5.2         2.3  Iris-virginica\n146          6.3         2.5          5.0         1.9  Iris-virginica\n147          6.5         3.0          5.2         2.0  Iris-virginica\n148          6.2         3.4          5.4         2.3  Iris-virginica\n149          5.9         3.0          5.1         1.8  Iris-virginica\n\n[150 rows x 5 columns]\n"
    }
   ],
   "source": [
    "import pandas as pd\n",
    "from sklearn.model_selection import train_test_split\n",
    "from sklearn.metrics import accuracy_score\n",
    "import warnings\n",
    "from sklearn.utils import all_estimators\n",
    "\n",
    "# CSV読み込み\n",
    "csv = pd.read_csv('iris.csv', encoding='utf-8')\n",
    "print(csv)"
   ]
  },
  {
   "cell_type": "code",
   "execution_count": 5,
   "metadata": {},
   "outputs": [
    {
     "output_type": "stream",
     "name": "stdout",
     "text": "train: 120, 120\ntest: 30, 30\n"
    }
   ],
   "source": [
    "# ラベルとデータに分離\n",
    "y = csv.loc[:, 'Name']\n",
    "x = csv.loc[:, ['SepalLength', 'SepalWidth', 'PetalLength', 'PetalWidth']]\n",
    "\n",
    "# 学習データとテストに分離\n",
    "x_train, x_test, y_train, y_test = train_test_split(x, y, test_size=0.2, train_size=0.8, shuffle=True)\n",
    "print(f'train: {len(x_train)}, {len(y_train)}')\n",
    "print(f'test: {len(x_test)}, {len(y_test)}')"
   ]
  },
  {
   "cell_type": "code",
   "execution_count": 6,
   "metadata": {},
   "outputs": [],
   "source": [
    "# 全てのclassifierアルゴリズム\n",
    "warnings.filterwarnings('ignore')\n",
    "all = all_estimators(type_filter='classifier')"
   ]
  },
  {
   "cell_type": "code",
   "execution_count": 19,
   "metadata": {},
   "outputs": [
    {
     "output_type": "stream",
     "name": "stdout",
     "text": "ClassifierChain: __init__() missing 1 required positional argument: 'base_estimator'\nMultiOutputClassifier: __init__() missing 1 required positional argument: 'estimator'\nOneVsOneClassifier: __init__() missing 1 required positional argument: 'estimator'\nOneVsRestClassifier: __init__() missing 1 required positional argument: 'estimator'\nOutputCodeClassifier: __init__() missing 1 required positional argument: 'estimator'\nStackingClassifier: __init__() missing 1 required positional argument: 'estimators'\nVotingClassifier: __init__() missing 1 required positional argument: 'estimators'\nLinearDiscriminantAnalysis の正解率 = 1.0\nLinearSVC の正解率 = 1.0\nLogisticRegression の正解率 = 1.0\nLogisticRegressionCV の正解率 = 1.0\nQuadraticDiscriminantAnalysis の正解率 = 1.0\nBaggingClassifier の正解率 = 0.9666666666666667\nCalibratedClassifierCV の正解率 = 0.9666666666666667\nCategoricalNB の正解率 = 0.9666666666666667\nExtraTreeClassifier の正解率 = 0.9666666666666667\nExtraTreesClassifier の正解率 = 0.9666666666666667\nGaussianNB の正解率 = 0.9666666666666667\nGaussianProcessClassifier の正解率 = 0.9666666666666667\nKNeighborsClassifier の正解率 = 0.9666666666666667\nLabelPropagation の正解率 = 0.9666666666666667\nLabelSpreading の正解率 = 0.9666666666666667\nMLPClassifier の正解率 = 0.9666666666666667\nMultinomialNB の正解率 = 0.9666666666666667\nNuSVC の正解率 = 0.9666666666666667\nRandomForestClassifier の正解率 = 0.9666666666666667\nSVC の正解率 = 0.9666666666666667\nDecisionTreeClassifier の正解率 = 0.9333333333333333\nGradientBoostingClassifier の正解率 = 0.9333333333333333\nHistGradientBoostingClassifier の正解率 = 0.9333333333333333\nNearestCentroid の正解率 = 0.9333333333333333\nRadiusNeighborsClassifier の正解率 = 0.9333333333333333\nAdaBoostClassifier の正解率 = 0.9\nPassiveAggressiveClassifier の正解率 = 0.9\nRidgeClassifier の正解率 = 0.9\nRidgeClassifierCV の正解率 = 0.9\nSGDClassifier の正解率 = 0.8\nPerceptron の正解率 = 0.7666666666666667\nComplementNB の正解率 = 0.6666666666666666\nDummyClassifier の正解率 = 0.3333333333333333\nBernoulliNB の正解率 = 0.26666666666666666\n"
    }
   ],
   "source": [
    "# 評価\n",
    "alg_list = []\n",
    "for name, alg in all:\n",
    "    try:\n",
    "        clf = alg()\n",
    "        clf.fit(x_train, y_train)\n",
    "        y_pred = clf.predict(x_test)\n",
    "        alg_list.append((name, accuracy_score(y_test, y_pred)))\n",
    "    except Exception as err:\n",
    "        print(f'{name}: {err}')\n",
    "\n",
    "alg_list = sorted(alg_list, key=lambda x: x[1], reverse=True)\n",
    "for name, acc in alg_list:\n",
    "    print(f'{name} の正解率 = {acc}')"
   ]
  },
  {
   "cell_type": "code",
   "execution_count": 21,
   "metadata": {},
   "outputs": [
    {
     "output_type": "stream",
     "name": "stdout",
     "text": "ClassifierChain: __init__() missing 1 required positional argument: 'base_estimator'\nMultiOutputClassifier: __init__() missing 1 required positional argument: 'estimator'\nOneVsOneClassifier: __init__() missing 1 required positional argument: 'estimator'\nOneVsRestClassifier: __init__() missing 1 required positional argument: 'estimator'\nOutputCodeClassifier: __init__() missing 1 required positional argument: 'estimator'\nStackingClassifier: __init__() missing 1 required positional argument: 'estimators'\nVotingClassifier: __init__() missing 1 required positional argument: 'estimators'\nLinearDiscriminantAnalysis の正解率 = [0.96666667 0.96666667 0.96666667 1.         1.        ]\nLogisticRegressionCV の正解率 = [0.96666667 1.         0.93333333 1.         0.96666667]\nMLPClassifier の正解率 = [0.93333333 1.         0.96666667 0.96666667 1.        ]\nQuadraticDiscriminantAnalysis の正解率 = [0.96666667 1.         0.93333333 0.96666667 0.96666667]\nLogisticRegression の正解率 = [0.93333333 1.         0.96666667 0.93333333 1.        ]\nNuSVC の正解率 = [0.96666667 0.93333333 1.         0.96666667 0.96666667]\nDecisionTreeClassifier の正解率 = [1.         0.96666667 0.96666667 0.86666667 1.        ]\nGaussianProcessClassifier の正解率 = [0.96666667 0.96666667 0.93333333 0.93333333 1.        ]\nGradientBoostingClassifier の正解率 = [1.  0.9 1.  0.9 1. ]\nKNeighborsClassifier の正解率 = [0.96666667 0.93333333 0.96666667 0.96666667 0.96666667]\nLabelPropagation の正解率 = [1.         0.93333333 0.93333333 1.         0.93333333]\nLinearSVC の正解率 = [0.93333333 0.96666667 1.         0.96666667 0.93333333]\nBaggingClassifier の正解率 = [0.93333333 0.96666667 0.96666667 1.         0.9       ]\nGaussianNB の正解率 = [0.93333333 0.96666667 1.         0.93333333 0.93333333]\nLabelSpreading の正解率 = [0.96666667 0.96666667 0.9        0.96666667 0.96666667]\nRadiusNeighborsClassifier の正解率 = [0.86666667 0.96666667 1.         1.         0.93333333]\nRandomForestClassifier の正解率 = [0.96666667 0.9        1.         0.93333333 0.96666667]\nExtraTreesClassifier の正解率 = [0.96666667 1.         0.9        0.93333333 0.93333333]\nSVC の正解率 = [0.96666667 0.93333333 1.         0.93333333 0.9       ]\nExtraTreeClassifier の正解率 = [0.93333333 1.         1.         0.86666667 0.9       ]\nHistGradientBoostingClassifier の正解率 = [0.96666667 0.9        0.96666667 0.93333333 0.93333333]\nAdaBoostClassifier の正解率 = [0.96666667 0.86666667 0.9        0.93333333 1.        ]\nCategoricalNB の正解率 = [0.86666667 0.96666667 0.93333333 0.93333333 0.96666667]\nNearestCentroid の正解率 = [0.9        0.96666667 0.93333333 0.93333333 0.9       ]\nMultinomialNB の正解率 = [0.93333333 0.96666667 0.93333333 0.96666667 0.8       ]\nCalibratedClassifierCV の正解率 = [0.83333333 0.93333333 0.86666667 0.93333333 0.93333333]\nSGDClassifier の正解率 = [0.7        0.9        0.96666667 0.96666667 0.73333333]\nRidgeClassifierCV の正解率 = [0.8        0.76666667 0.93333333 0.83333333 0.83333333]\nRidgeClassifier の正解率 = [0.86666667 0.9        0.76666667 0.6        0.9       ]\nPassiveAggressiveClassifier の正解率 = [0.8        0.83333333 0.76666667 0.7        0.9       ]\nPerceptron の正解率 = [0.9        0.8        0.93333333 0.8        0.23333333]\nComplementNB の正解率 = [0.53333333 0.73333333 0.76666667 0.53333333 0.76666667]\nDummyClassifier の正解率 = [0.26666667 0.4        0.36666667 0.2        0.5       ]\nBernoulliNB の正解率 = [0.23333333 0.3        0.3        0.3        0.2       ]\n"
    }
   ],
   "source": [
    "from sklearn.model_selection import KFold\n",
    "from sklearn.model_selection import cross_val_score\n",
    "import numpy as np\n",
    "\n",
    "# クロスバリデーション\n",
    "kfold = KFold(n_splits=5, shuffle=True)\n",
    "\n",
    "# 評価\n",
    "alg_list_cv = []\n",
    "for name, alg in all:\n",
    "    try:\n",
    "        clf = alg()\n",
    "        # scoreが存在するアルゴリズムだけ\n",
    "        if hasattr(clf, 'score'):\n",
    "            scores = cross_val_score(clf, x, y, cv=kfold)\n",
    "            alg_list_cv.append((name, scores))\n",
    "    except Exception as err:\n",
    "        print(f'{name}: {err}')\n",
    "\n",
    "alg_list_cv = sorted(alg_list_cv, key=lambda x: np.average(x[1]), reverse=True)\n",
    "alg_list = sorted(alg_list, key=lambda x: x[1], reverse=True)\n",
    "for name, scores in alg_list_cv:\n",
    "    print(f'{name} の正解率 = {scores}')"
   ]
  },
  {
   "cell_type": "code",
   "execution_count": 24,
   "metadata": {},
   "outputs": [
    {
     "output_type": "stream",
     "name": "stdout",
     "text": "最適なパラメータ = SVC(C=100, break_ties=False, cache_size=200, class_weight=None, coef0=0.0,\n    decision_function_shape='ovr', degree=3, gamma=0.001, kernel='rbf',\n    max_iter=-1, probability=False, random_state=None, shrinking=True,\n    tol=0.001, verbose=False)\n"
    }
   ],
   "source": [
    "from sklearn.svm import SVC\n",
    "from sklearn.model_selection import GridSearchCV\n",
    "\n",
    "# グリッドサーチ\n",
    "params = [\n",
    "    {\"C\": [1, 10, 100, 1000], 'kernel': ['linear']},\n",
    "    {\"C\": [1, 10, 100, 1000], 'kernel': ['rbf'], 'gamma': [0.001, 0.0001]},\n",
    "    {\"C\": [1, 10, 100, 1000], 'kernel': ['sigmoid'], 'gamma': [0.001, 0.0001]}\n",
    "]\n",
    "clf = GridSearchCV(SVC(), params, cv=kfold)\n",
    "clf.fit(x_train, y_train)\n",
    "print(f'最適なパラメータ = {clf.best_estimator_}')"
   ]
  },
  {
   "cell_type": "code",
   "execution_count": 25,
   "metadata": {},
   "outputs": [
    {
     "output_type": "stream",
     "name": "stdout",
     "text": "評価時の正解率 = 1.0\n"
    }
   ],
   "source": [
    "# 最適なパラメータで評価\n",
    "y_pred = clf.predict(x_test)\n",
    "print(f'評価時の正解率 = {accuracy_score(y_test, y_pred)}')"
   ]
  },
  {
   "cell_type": "code",
   "execution_count": 28,
   "metadata": {},
   "outputs": [
    {
     "output_type": "stream",
     "name": "stdout",
     "text": "最適なパラメータ = SVC(C=1000, break_ties=False, cache_size=200, class_weight=None, coef0=0.0,\n    decision_function_shape='ovr', degree=3, gamma=0.001, kernel='sigmoid',\n    max_iter=-1, probability=False, random_state=None, shrinking=True,\n    tol=0.001, verbose=False)\n"
    }
   ],
   "source": [
    "from sklearn.model_selection import RandomizedSearchCV\n",
    "\n",
    "# グリッドサーチ\n",
    "params = [\n",
    "    {\"C\": [1, 10, 100, 1000], 'kernel': ['linear']},\n",
    "    {\"C\": [1, 10, 100, 1000], 'kernel': ['rbf'], 'gamma': [0.001, 0.0001]},\n",
    "    {\"C\": [1, 10, 100, 1000], 'kernel': ['sigmoid'], 'gamma': [0.001, 0.0001]}\n",
    "]\n",
    "clf = RandomizedSearchCV(SVC(), params, cv=kfold)\n",
    "clf.fit(x_train, y_train)\n",
    "print(f'最適なパラメータ = {clf.best_estimator_}')"
   ]
  },
  {
   "cell_type": "code",
   "execution_count": 29,
   "metadata": {},
   "outputs": [
    {
     "output_type": "stream",
     "name": "stdout",
     "text": "評価時の正解率 = 0.9666666666666667\n"
    }
   ],
   "source": [
    "# 最適なパラメータで評価\n",
    "y_pred = clf.predict(x_test)\n",
    "print(f'評価時の正解率 = {accuracy_score(y_test, y_pred)}')"
   ]
  },
  {
   "cell_type": "code",
   "execution_count": null,
   "metadata": {},
   "outputs": [],
   "source": []
  }
 ],
 "metadata": {
  "language_info": {
   "codemirror_mode": {
    "name": "ipython",
    "version": 3
   },
   "file_extension": ".py",
   "mimetype": "text/x-python",
   "name": "python",
   "nbconvert_exporter": "python",
   "pygments_lexer": "ipython3",
   "version": "3.7.5-final"
  },
  "orig_nbformat": 2,
  "kernelspec": {
   "name": "python37564bitaitutorialvenvbfa9976514ab457184b1b6f4ee41b3e6",
   "display_name": "Python 3.7.5 64-bit ('ai_tutorial': venv)"
  }
 },
 "nbformat": 4,
 "nbformat_minor": 2
}