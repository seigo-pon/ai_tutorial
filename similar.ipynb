{
 "cells": [
  {
   "cell_type": "code",
   "execution_count": 1,
   "metadata": {
    "tags": []
   },
   "outputs": [
    {
     "output_type": "stream",
     "name": "stdout",
     "text": "('受託', 0.7734761238098145)\n('フィナンシャルアドバイザー', 0.7546419501304626)\n('テナントリーシング', 0.7502523064613342)\n('事業', 0.7424803972244263)\n('アウトソーシング・サービス', 0.7392146587371826)\n('クラウドワーカー', 0.736400842666626)\n('許認可', 0.7361563444137573)\n('アウトソーシングサービス', 0.7357772588729858)\n('アウトソーサー', 0.7343606948852539)\n('インフルエンサーマーケティング', 0.7338203191757202)\n"
    }
   ],
   "source": [
    "from gensim.models import word2vec\n",
    "\n",
    "model = word2vec.Word2Vec.load('./wiki.model')\n",
    "rets = model.wv.most_similar(positive=['業務'])\n",
    "for ret in rets:\n",
    "    print(ret)"
   ]
  },
  {
   "cell_type": "code",
   "execution_count": 2,
   "metadata": {
    "tags": []
   },
   "outputs": [
    {
     "output_type": "stream",
     "name": "stdout",
     "text": "('太子', 0.7506254315376282)\n('ホルフダスン', 0.7306400537490845)\n('マクシミリアン・エマヌエル', 0.7261955142021179)\n('慈儀', 0.7091503143310547)\n('皇帝', 0.7081853747367859)\n('韶明', 0.707790195941925)\n('公', 0.7064336538314819)\n('Gungtsen', 0.7053783535957336)\n('Gungsrong', 0.700837254524231)\n('バルチュク・アルト・テギン', 0.6995154023170471)\n"
    }
   ],
   "source": [
    "rets = model.wv.most_similar(positive=['王', '女'], negative=['男'])\n",
    "for ret in rets:\n",
    "    print(ret)"
   ]
  },
  {
   "cell_type": "code",
   "execution_count": 3,
   "metadata": {
    "tags": []
   },
   "outputs": [
    {
     "output_type": "stream",
     "name": "stdout",
     "text": "PC起動しなくなりました。急いでいます。\n0.1325343\n0.40908715\n0.2118949\n0.3210661\n0.65880984\n0.2188275\n使い方がよくわかりません。\n0.43326333\n0.46676436\n"
    }
   ],
   "source": [
    "import MeCab\n",
    "\n",
    "tagger = MeCab.Tagger('-d /var/lib/mecab/dic/mecab-ipadic-neologd')\n",
    "tagger.parse('')\n",
    "\n",
    "def print_emargency(text):\n",
    "    print(text)\n",
    "    node = tagger.parseToNode(text)\n",
    "    while node is not None:\n",
    "        fields = node.feature.split(',')\n",
    "        if fields[0] == '名詞' or fields[0] == '動詞' or fields[0] == '形容詞':\n",
    "            print(model.wv.similarity(node.surface, '至急'))\n",
    "        node = node.next\n",
    "\n",
    "print_emargency('PC起動しなくなりました。急いでいます。')\n",
    "print_emargency('使い方がよくわかりません。')"
   ]
  },
  {
   "cell_type": "code",
   "execution_count": null,
   "metadata": {},
   "outputs": [],
   "source": []
  }
 ],
 "metadata": {
  "language_info": {
   "codemirror_mode": {
    "name": "ipython",
    "version": 3
   },
   "file_extension": ".py",
   "mimetype": "text/x-python",
   "name": "python",
   "nbconvert_exporter": "python",
   "pygments_lexer": "ipython3",
   "version": "3.7.5-final"
  },
  "orig_nbformat": 2,
  "kernelspec": {
   "name": "python37564bitaitutorialvenvbfa9976514ab457184b1b6f4ee41b3e6",
   "display_name": "Python 3.7.5 64-bit ('ai_tutorial': venv)"
  }
 },
 "nbformat": 4,
 "nbformat_minor": 2
}