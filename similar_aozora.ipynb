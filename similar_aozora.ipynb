{
 "cells": [
  {
   "cell_type": "code",
   "execution_count": 2,
   "metadata": {
    "tags": []
   },
   "outputs": [
    {
     "output_type": "stream",
     "name": "stdout",
     "text": "book/473_ruby_467.zip\n宮沢　賢治: よだかの星と似た作品は？\n[('芥川\\u3000竜之介:老年', 0.9995905756950378), ('芥川\\u3000竜之介:羅生門', 0.9995163083076477), ('宮沢\\u3000賢治:どんぐりと山猫', 0.9991496801376343)]\nbook/56_ruby_845.zip\n芥川　竜之介: 犬と笛と似た作品は？\n[('夏目\\u3000漱石:吾輩は猫である', 0.9991558790206909), ('太宰\\u3000治:津軽', 0.9983313083648682), ('芥川\\u3000竜之介:老年', 0.9983235001564026)]\nbook/46599_ruby_24668.zip\n太宰　治: 純真と似た作品は？\n[('芥川\\u3000竜之介:羅生門', 0.9993751645088196), ('芥川\\u3000竜之介:老年', 0.9990769624710083), ('宮沢\\u3000賢治:どんぐりと山猫', 0.9989293217658997)]\nbook/1086_ruby_5742.zip\n夏目　漱石: 一夜と似た作品は？\n[('夏目\\u3000漱石:虞美人草', 0.9982724189758301), ('夏目\\u3000漱石:草枕', 0.9965048432350159), ('宮沢\\u3000賢治:注文の多い料理店', 0.9923967123031616)]\n"
    }
   ],
   "source": [
    "import urllib.request as req\n",
    "import zipfile\n",
    "import os.path\n",
    "import MeCab\n",
    "from gensim import models\n",
    "\n",
    "# Mecabの初期化\n",
    "mecab = MeCab.Tagger()\n",
    "mecab.parse('')\n",
    "\n",
    "save_dir = 'book'\n",
    "\n",
    "# モデル読み込み\n",
    "model = models.Doc2Vec.load('./aozora.model')\n",
    "\n",
    "def read_book(url, zipname):\n",
    "    save_path = os.path.join(save_dir, zipname)\n",
    "    if not os.path.exists(save_path):\n",
    "        print(save_path)\n",
    "        req.urlretrieve(url, save_path)\n",
    "\n",
    "    with zipfile.ZipFile(save_path, 'r') as zf:\n",
    "        for filename in zf.namelist():\n",
    "            with zf.open(filename, 'r') as f:\n",
    "                return f.read().decode('shift-jis')\n",
    "\n",
    "def split_words(text):\n",
    "    node = mecab.parseToNode(text)\n",
    "    wakati_words = []\n",
    "    while node is not None:\n",
    "        hinshi = node.feature.split(',')[0]\n",
    "        if hinshi in ['名詞']:\n",
    "            wakati_words.append(node.surface)\n",
    "        elif hinshi in ['動詞', '形容詞']:\n",
    "            wakati_words.append(node.feature.split(',')[6])\n",
    "        node = node.next\n",
    "    return wakati_words\n",
    "\n",
    "def similar(title, url):\n",
    "    zipname = url.split('/')[-1]\n",
    "\n",
    "    words = read_book(url, zipname)\n",
    "    wakati_words = split_words(words)\n",
    "    vector = model.infer_vector(wakati_words)\n",
    "    print(f'{title}と似た作品は？')\n",
    "    print(model.docvecs.most_similar([vector], topn=3))\n",
    "\n",
    "similar(\n",
    "    '宮沢　賢治: よだかの星',\n",
    "    'https://www.aozora.gr.jp/cards/000081/files/473_ruby_467.zip'\n",
    ")\n",
    "similar(\n",
    "    '芥川　竜之介: 犬と笛',\n",
    "    'https://www.aozora.gr.jp/cards/000879/files/56_ruby_845.zip'\n",
    ")\n",
    "similar(\n",
    "    '太宰　治: 純真',\n",
    "    'https://www.aozora.gr.jp/cards/000035/files/46599_ruby_24668.zip'\n",
    ")\n",
    "similar(\n",
    "    '夏目　漱石: 一夜',\n",
    "    'https://www.aozora.gr.jp/cards/000148/files/1086_ruby_5742.zip'\n",
    ")\n"
   ]
  },
  {
   "cell_type": "code",
   "execution_count": null,
   "metadata": {},
   "outputs": [],
   "source": []
  }
 ],
 "metadata": {
  "language_info": {
   "codemirror_mode": {
    "name": "ipython",
    "version": 3
   },
   "file_extension": ".py",
   "mimetype": "text/x-python",
   "name": "python",
   "nbconvert_exporter": "python",
   "pygments_lexer": "ipython3",
   "version": "3.7.5-final"
  },
  "orig_nbformat": 2,
  "kernelspec": {
   "name": "python37564bitaitutorialvenvbfa9976514ab457184b1b6f4ee41b3e6",
   "display_name": "Python 3.7.5 64-bit ('ai_tutorial': venv)"
  }
 },
 "nbformat": 4,
 "nbformat_minor": 2
}