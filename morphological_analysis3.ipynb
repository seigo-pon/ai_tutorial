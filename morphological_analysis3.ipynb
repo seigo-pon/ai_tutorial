{
 "cells": [
  {
   "cell_type": "code",
   "execution_count": 5,
   "metadata": {},
   "outputs": [
    {
     "output_type": "stream",
     "name": "stdout",
     "text": "['メイ', '恋ダンス', '踊る', 'いる']\n"
    }
   ],
   "source": [
    "import MeCab\n",
    "\n",
    "tagger = MeCab.Tagger('-d /var/lib/mecab/dic/mecab-ipadic-neologd')\n",
    "\n",
    "ret = tagger.parse('')\n",
    "\n",
    "node = tagger.parseToNode('メイが恋ダンスを踊っている。')\n",
    "\n",
    "ret = []\n",
    "while node is not None:\n",
    "    hinshi = node.feature.split(',')[0]\n",
    "    if hinshi in ['名詞']:\n",
    "        ret.append(node.surface)\n",
    "    elif hinshi in ['動詞', '形容詞']:\n",
    "        ret.append(node.feature.split(',')[6])\n",
    "    node = node.next        \n",
    "\n",
    "print(ret)"
   ]
  },
  {
   "cell_type": "code",
   "execution_count": null,
   "metadata": {},
   "outputs": [],
   "source": []
  }
 ],
 "metadata": {
  "language_info": {
   "codemirror_mode": {
    "name": "ipython",
    "version": 3
   },
   "file_extension": ".py",
   "mimetype": "text/x-python",
   "name": "python",
   "nbconvert_exporter": "python",
   "pygments_lexer": "ipython3",
   "version": "3.7.5-final"
  },
  "orig_nbformat": 2,
  "kernelspec": {
   "name": "python37564bitaitutorialvenvbfa9976514ab457184b1b6f4ee41b3e6",
   "display_name": "Python 3.7.5 64-bit ('ai_tutorial': venv)"
  }
 },
 "nbformat": 4,
 "nbformat_minor": 2
}