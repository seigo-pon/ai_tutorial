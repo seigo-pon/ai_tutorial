{
 "cells": [
  {
   "cell_type": "code",
   "execution_count": 1,
   "metadata": {},
   "outputs": [],
   "source": [
    "from sklearn.neighbors import KNeighborsClassifier\n",
    "from sklearn.metrics import accuracy_score"
   ]
  },
  {
   "cell_type": "code",
   "execution_count": 2,
   "metadata": {},
   "outputs": [],
   "source": [
    "# データ\n",
    "learn_data = [[0, 0], [1, 0], [0, 1], [1, 1]]\n",
    "learn_label = [0, 1, 1, 0]"
   ]
  },
  {
   "cell_type": "code",
   "execution_count": 3,
   "metadata": {},
   "outputs": [],
   "source": [
    "clf = KNeighborsClassifier(n_neighbors=1)"
   ]
  },
  {
   "cell_type": "code",
   "execution_count": 4,
   "metadata": {},
   "outputs": [
    {
     "output_type": "execute_result",
     "data": {
      "text/plain": "KNeighborsClassifier(algorithm='auto', leaf_size=30, metric='minkowski',\n                     metric_params=None, n_jobs=None, n_neighbors=1, p=2,\n                     weights='uniform')"
     },
     "metadata": {},
     "execution_count": 4
    }
   ],
   "source": [
    "clf.fit(learn_data, learn_label)"
   ]
  },
  {
   "cell_type": "code",
   "execution_count": 5,
   "metadata": {},
   "outputs": [],
   "source": [
    "test_data = [[0, 0], [1, 0], [0, 1], [1, 1]]\n",
    "test_label = clf.predict(test_data)"
   ]
  },
  {
   "cell_type": "code",
   "execution_count": 6,
   "metadata": {},
   "outputs": [
    {
     "output_type": "stream",
     "name": "stdout",
     "text": "[[0, 0], [1, 0], [0, 1], [1, 1]] の予測結果: [0 1 1 0]\n正解率 = 1.0\n"
    }
   ],
   "source": [
    "print(f'{test_data} の予測結果: {test_label}')\n",
    "print(f'正解率 = {accuracy_score([0, 1, 1, 0], test_label)}')"
   ]
  },
  {
   "cell_type": "code",
   "execution_count": null,
   "metadata": {},
   "outputs": [],
   "source": []
  }
 ],
 "metadata": {
  "language_info": {
   "codemirror_mode": {
    "name": "ipython",
    "version": 3
   },
   "file_extension": ".py",
   "mimetype": "text/x-python",
   "name": "python",
   "nbconvert_exporter": "python",
   "pygments_lexer": "ipython3",
   "version": "3.7.5-final"
  },
  "orig_nbformat": 2,
  "kernelspec": {
   "name": "python37564bitaitutorialvenvbfa9976514ab457184b1b6f4ee41b3e6",
   "display_name": "Python 3.7.5 64-bit ('ai_tutorial': venv)"
  }
 },
 "nbformat": 4,
 "nbformat_minor": 2
}