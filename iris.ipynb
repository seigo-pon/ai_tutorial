{
 "cells": [
  {
   "cell_type": "code",
   "execution_count": 16,
   "metadata": {},
   "outputs": [
    {
     "output_type": "stream",
     "name": "stdout",
     "text": "--2020-04-28 23:26:05--  https://raw.githubusercontent.com/pandas-dev/pandas/master/pandas/tests/data/iris.csv\nraw.githubusercontent.com (raw.githubusercontent.com) をDNSに問いあわせています... 151.101.88.133\nraw.githubusercontent.com (raw.githubusercontent.com)|151.101.88.133|:443 に接続しています...接続しました。\nHTTP による接続要求を送信しました、応答を待っています...200 OK\n長さ: 4600 (4.5K) [text/plain]\n`iris.csv' に保存中\n\niris.csv            100%[===================>]   4.49K  --.-KB/s 時間 0s       \n\n2020-04-28 23:26:05 (15.8 MB/s) - `iris.csv' へ保存完了 [4600/4600]\n\n"
    }
   ],
   "source": [
    "# データのダウンロード\n",
    "!wget https://raw.githubusercontent.com/pandas-dev/pandas/master/pandas/tests/data/iris.csv"
   ]
  },
  {
   "cell_type": "code",
   "execution_count": 17,
   "metadata": {},
   "outputs": [
    {
     "output_type": "execute_result",
     "data": {
      "text/plain": "     SepalLength  SepalWidth  PetalLength  PetalWidth            Name\n0            5.1         3.5          1.4         0.2     Iris-setosa\n1            4.9         3.0          1.4         0.2     Iris-setosa\n2            4.7         3.2          1.3         0.2     Iris-setosa\n3            4.6         3.1          1.5         0.2     Iris-setosa\n4            5.0         3.6          1.4         0.2     Iris-setosa\n..           ...         ...          ...         ...             ...\n145          6.7         3.0          5.2         2.3  Iris-virginica\n146          6.3         2.5          5.0         1.9  Iris-virginica\n147          6.5         3.0          5.2         2.0  Iris-virginica\n148          6.2         3.4          5.4         2.3  Iris-virginica\n149          5.9         3.0          5.1         1.8  Iris-virginica\n\n[150 rows x 5 columns]",
      "text/html": "<div>\n<style scoped>\n    .dataframe tbody tr th:only-of-type {\n        vertical-align: middle;\n    }\n\n    .dataframe tbody tr th {\n        vertical-align: top;\n    }\n\n    .dataframe thead th {\n        text-align: right;\n    }\n</style>\n<table border=\"1\" class=\"dataframe\">\n  <thead>\n    <tr style=\"text-align: right;\">\n      <th></th>\n      <th>SepalLength</th>\n      <th>SepalWidth</th>\n      <th>PetalLength</th>\n      <th>PetalWidth</th>\n      <th>Name</th>\n    </tr>\n  </thead>\n  <tbody>\n    <tr>\n      <th>0</th>\n      <td>5.1</td>\n      <td>3.5</td>\n      <td>1.4</td>\n      <td>0.2</td>\n      <td>Iris-setosa</td>\n    </tr>\n    <tr>\n      <th>1</th>\n      <td>4.9</td>\n      <td>3.0</td>\n      <td>1.4</td>\n      <td>0.2</td>\n      <td>Iris-setosa</td>\n    </tr>\n    <tr>\n      <th>2</th>\n      <td>4.7</td>\n      <td>3.2</td>\n      <td>1.3</td>\n      <td>0.2</td>\n      <td>Iris-setosa</td>\n    </tr>\n    <tr>\n      <th>3</th>\n      <td>4.6</td>\n      <td>3.1</td>\n      <td>1.5</td>\n      <td>0.2</td>\n      <td>Iris-setosa</td>\n    </tr>\n    <tr>\n      <th>4</th>\n      <td>5.0</td>\n      <td>3.6</td>\n      <td>1.4</td>\n      <td>0.2</td>\n      <td>Iris-setosa</td>\n    </tr>\n    <tr>\n      <th>...</th>\n      <td>...</td>\n      <td>...</td>\n      <td>...</td>\n      <td>...</td>\n      <td>...</td>\n    </tr>\n    <tr>\n      <th>145</th>\n      <td>6.7</td>\n      <td>3.0</td>\n      <td>5.2</td>\n      <td>2.3</td>\n      <td>Iris-virginica</td>\n    </tr>\n    <tr>\n      <th>146</th>\n      <td>6.3</td>\n      <td>2.5</td>\n      <td>5.0</td>\n      <td>1.9</td>\n      <td>Iris-virginica</td>\n    </tr>\n    <tr>\n      <th>147</th>\n      <td>6.5</td>\n      <td>3.0</td>\n      <td>5.2</td>\n      <td>2.0</td>\n      <td>Iris-virginica</td>\n    </tr>\n    <tr>\n      <th>148</th>\n      <td>6.2</td>\n      <td>3.4</td>\n      <td>5.4</td>\n      <td>2.3</td>\n      <td>Iris-virginica</td>\n    </tr>\n    <tr>\n      <th>149</th>\n      <td>5.9</td>\n      <td>3.0</td>\n      <td>5.1</td>\n      <td>1.8</td>\n      <td>Iris-virginica</td>\n    </tr>\n  </tbody>\n</table>\n<p>150 rows × 5 columns</p>\n</div>"
     },
     "metadata": {},
     "execution_count": 17
    }
   ],
   "source": [
    "import pandas as pd\n",
    "\n",
    "# ファイルを表示\n",
    "csv = pd.read_csv('iris.csv', encoding='utf-8')\n",
    "csv"
   ]
  },
  {
   "cell_type": "code",
   "execution_count": 18,
   "metadata": {},
   "outputs": [
    {
     "output_type": "stream",
     "name": "stdout",
     "text": "0         Iris-setosa\n1         Iris-setosa\n2         Iris-setosa\n3         Iris-setosa\n4         Iris-setosa\n            ...      \n145    Iris-virginica\n146    Iris-virginica\n147    Iris-virginica\n148    Iris-virginica\n149    Iris-virginica\nName: Name, Length: 150, dtype: object\n     SepalLength  SepalWidth  PetalLength  PetalWidth\n0            5.1         3.5          1.4         0.2\n1            4.9         3.0          1.4         0.2\n2            4.7         3.2          1.3         0.2\n3            4.6         3.1          1.5         0.2\n4            5.0         3.6          1.4         0.2\n..           ...         ...          ...         ...\n145          6.7         3.0          5.2         2.3\n146          6.3         2.5          5.0         1.9\n147          6.5         3.0          5.2         2.0\n148          6.2         3.4          5.4         2.3\n149          5.9         3.0          5.1         1.8\n\n[150 rows x 4 columns]\n"
    }
   ],
   "source": [
    "from sklearn.model_selection import train_test_split\n",
    "from sklearn.svm import SVC\n",
    "from sklearn.metrics import accuracy_score\n",
    "\n",
    "# ラベルと入力データに分離\n",
    "y = csv.loc[:, 'Name']\n",
    "x = csv.loc[:, ['SepalLength', 'SepalWidth', 'PetalLength', 'PetalWidth']]\n",
    "print(y)\n",
    "print(x)"
   ]
  },
  {
   "cell_type": "code",
   "execution_count": 19,
   "metadata": {},
   "outputs": [
    {
     "output_type": "stream",
     "name": "stdout",
     "text": "train = 120, 120\ntest = 30, 30\n"
    }
   ],
   "source": [
    "# 学習データとテストデータに分離\n",
    "x_train, x_test, y_train, y_test = train_test_split(x, y, test_size=0.2, train_size=0.8, shuffle=True)\n",
    "print(f'train = {len(x_train)}, {len(y_train)}')\n",
    "print(f'test = {len(x_test)}, {len(y_test)}')"
   ]
  },
  {
   "cell_type": "code",
   "execution_count": 20,
   "metadata": {},
   "outputs": [
    {
     "output_type": "execute_result",
     "data": {
      "text/plain": "SVC(C=1.0, break_ties=False, cache_size=200, class_weight=None, coef0=0.0,\n    decision_function_shape='ovr', degree=3, gamma='scale', kernel='rbf',\n    max_iter=-1, probability=False, random_state=None, shrinking=True,\n    tol=0.001, verbose=False)"
     },
     "metadata": {},
     "execution_count": 20
    }
   ],
   "source": [
    "# 学習\n",
    "clf = SVC()\n",
    "clf.fit(x_train, y_train)"
   ]
  },
  {
   "cell_type": "code",
   "execution_count": 21,
   "metadata": {},
   "outputs": [
    {
     "output_type": "stream",
     "name": "stdout",
     "text": "正解率 = 1.0\n"
    }
   ],
   "source": [
    "# 評価\n",
    "y_pred = clf.predict(x_test)\n",
    "print(f'正解率 = {accuracy_score(y_test, y_pred)}')"
   ]
  },
  {
   "cell_type": "code",
   "execution_count": null,
   "metadata": {},
   "outputs": [],
   "source": []
  }
 ],
 "metadata": {
  "language_info": {
   "codemirror_mode": {
    "name": "ipython",
    "version": 3
   },
   "file_extension": ".py",
   "mimetype": "text/x-python",
   "name": "python",
   "nbconvert_exporter": "python",
   "pygments_lexer": "ipython3",
   "version": "3.7.5-final"
  },
  "orig_nbformat": 2,
  "kernelspec": {
   "name": "python37564bitaitutorialvenvbfa9976514ab457184b1b6f4ee41b3e6",
   "display_name": "Python 3.7.5 64-bit ('ai_tutorial': venv)"
  }
 },
 "nbformat": 4,
 "nbformat_minor": 2
}