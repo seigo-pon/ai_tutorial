{
 "cells": [
  {
   "cell_type": "code",
   "execution_count": 2,
   "metadata": {},
   "outputs": [
    {
     "output_type": "stream",
     "name": "stdout",
     "text": "メイ\t名詞,一般,*,*,*,*,*\nが\t助詞,格助詞,一般,*,*,*,が,ガ,ガ\n恋\t名詞,一般,*,*,*,*,恋,コイ,コイ\nダンス\t名詞,サ変接続,*,*,*,*,ダンス,ダンス,ダンス\nを\t助詞,格助詞,一般,*,*,*,を,ヲ,ヲ\n踊っ\t動詞,自立,*,*,五段・ラ行,連用タ接続,踊る,オドッ,オドッ\nて\t助詞,接続助詞,*,*,*,*,て,テ,テ\nいる\t動詞,非自立,*,*,一段,基本形,いる,イル,イル\n。\t記号,句点,*,*,*,*,。,。,。\nEOS\n\n"
    }
   ],
   "source": [
    "import MeCab\n",
    "\n",
    "tagger = MeCab.Tagger()\n",
    "\n",
    "ret = tagger.parse('メイが恋ダンスを踊っている。')\n",
    "print(ret)"
   ]
  },
  {
   "cell_type": "code",
   "execution_count": null,
   "metadata": {},
   "outputs": [],
   "source": []
  }
 ],
 "metadata": {
  "language_info": {
   "codemirror_mode": {
    "name": "ipython",
    "version": 3
   },
   "file_extension": ".py",
   "mimetype": "text/x-python",
   "name": "python",
   "nbconvert_exporter": "python",
   "pygments_lexer": "ipython3",
   "version": "3.7.5-final"
  },
  "orig_nbformat": 2,
  "kernelspec": {
   "name": "python37564bitaitutorialvenvbfa9976514ab457184b1b6f4ee41b3e6",
   "display_name": "Python 3.7.5 64-bit ('ai_tutorial': venv)"
  }
 },
 "nbformat": 4,
 "nbformat_minor": 2
}