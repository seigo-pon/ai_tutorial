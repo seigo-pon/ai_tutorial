{
 "cells": [
  {
   "cell_type": "code",
   "execution_count": 2,
   "metadata": {
    "tags": []
   },
   "outputs": [
    {
     "output_type": "stream",
     "name": "stdout",
     "text": "0.9696969696969697\n0.9090909090909091\n1.0\n0.8787878787878788\n0.9696969696969697\n1.0\n0.9393939393939394\n0.9696969696969697\n0.9393939393939394\n0.9696969696969697\n0.9696969696969697\n1.0\n0.9696969696969697\n0.9393939393939394\n0.9696969696969697\n0.9696969696969697\n0.9393939393939394\n0.9696969696969697\n0.9696969696969697\n1.0\n0.8787878787878788\n0.9393939393939394\n0.9393939393939394\n1.0\n0.9393939393939394\n0.9393939393939394\n0.9393939393939394\n0.9696969696969697\n1.0\n0.9393939393939394\n0.9696969696969697\n0.9090909090909091\n0.9393939393939394\n0.9393939393939394\n1.0\n1.0\n0.9696969696969697\n1.0\n0.9696969696969697\n0.9393939393939394\n0.9393939393939394\n0.9696969696969697\n0.9696969696969697\n0.8787878787878788\n0.9696969696969697\n0.9393939393939394\n0.9090909090909091\n1.0\n0.8787878787878788\n0.9696969696969697\n0.8787878787878788\n0.9696969696969697\n0.9393939393939394\n0.9393939393939394\n1.0\n0.9696969696969697\n0.8181818181818182\n0.9393939393939394\n1.0\n1.0\n0.9696969696969697\n1.0\n1.0\n0.9393939393939394\n0.9393939393939394\n0.9696969696969697\n0.9696969696969697\n0.9393939393939394\n0.8787878787878788\n1.0\n0.9393939393939394\n0.8787878787878788\n0.9696969696969697\n1.0\n0.9696969696969697\n1.0\n0.9696969696969697\n1.0\n0.9393939393939394\n0.9393939393939394\n0.9393939393939394\n0.9696969696969697\n0.9090909090909091\n0.9696969696969697\n0.9090909090909091\n1.0\n1.0\n0.9090909090909091\n0.9393939393939394\n0.9696969696969697\n1.0\n0.9696969696969697\n1.0\n0.9696969696969697\n1.0\n1.0\n0.9696969696969697\n0.9696969696969697\n0.9696969696969697\n0.9696969696969697\n----\naverage= 0.9578787878787871\n"
    }
   ],
   "source": [
    "import pickle\n",
    "from sklearn.naive_bayes import GaussianNB\n",
    "from sklearn.model_selection import train_test_split\n",
    "from sklearn.metrics import accuracy_score\n",
    "\n",
    "data_file = './ok-spam.pickle'\n",
    "save_file = './ok-spam-model.pickle'\n",
    "\n",
    "data = pickle.load(open(data_file, 'rb'))\n",
    "y = data[0]\n",
    "x = data[1]\n",
    "\n",
    "count = 100\n",
    "rate = 0\n",
    "for i in range(count):\n",
    "    x_train, x_test, y_train, y_test = train_test_split(x, y, test_size=0.2)\n",
    "    model = GaussianNB()\n",
    "    model.fit(x_train, y_train)\n",
    "    y_pred = model.predict(x_test)\n",
    "    acc = accuracy_score(y_test, y_pred)\n",
    "    if acc > 0.94:\n",
    "        pickle.dump(model, open(save_file, 'wb'))\n",
    "    print(acc)\n",
    "    rate += acc\n",
    "\n",
    "print('----')\n",
    "print('average=', rate / count)"
   ]
  },
  {
   "cell_type": "code",
   "execution_count": null,
   "metadata": {},
   "outputs": [],
   "source": []
  }
 ],
 "metadata": {
  "language_info": {
   "codemirror_mode": {
    "name": "ipython",
    "version": 3
   },
   "file_extension": ".py",
   "mimetype": "text/x-python",
   "name": "python",
   "nbconvert_exporter": "python",
   "pygments_lexer": "ipython3",
   "version": "3.7.5-final"
  },
  "orig_nbformat": 2,
  "kernelspec": {
   "name": "python37564bitaitutorialvenvbfa9976514ab457184b1b6f4ee41b3e6",
   "display_name": "Python 3.7.5 64-bit ('ai_tutorial': venv)"
  }
 },
 "nbformat": 4,
 "nbformat_minor": 2
}